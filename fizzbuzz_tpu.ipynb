{
 "cells": [
  {
   "cell_type": "markdown",
   "metadata": {},
   "source": [
    "<a href=\"https://colab.research.google.com/github/jcyeh/dl_scripts/blob/master/fizzbuzz_tpu.ipynb\" target=\"_parent\"><img src=\"https://colab.research.google.com/assets/colab-badge.svg\" alt=\"Open In Colab\"/></a>"
   ]
  },
  {
   "cell_type": "markdown",
   "metadata": {},
   "source": [
    "# FizzBuzz in TensorFlow (v2.0.0)\n",
    "\n",
    "This Jupyter notebook demonstrates the FizzBuzz code running on TPU device"
   ]
  },
  {
   "cell_type": "code",
   "execution_count": null,
   "metadata": {},
   "outputs": [],
   "source": [
    "import os\n",
    "import time\n",
    "import numpy as np\n",
    "import tensorflow as tf\n",
    "import tensorflow_datasets as tfds"
   ]
  },
  {
   "cell_type": "markdown",
   "metadata": {},
   "source": [
    "The TPU initialization code has to be at the beginning of your program."
   ]
  },
  {
   "cell_type": "code",
   "execution_count": null,
   "metadata": {},
   "outputs": [],
   "source": [
    "resolver = tf.distribute.cluster_resolver.TPUClusterResolver(tpu='grpc://' + os.environ['COLAB_TPU_ADDR'])\n",
    "tf.config.experimental_connect_to_cluster(resolver)\n",
    "# This is the TPU initialization code that has to be at the beginning.\n",
    "tf.tpu.experimental.initialize_tpu_system(resolver)\n",
    "strategy = tf.distribute.experimental.TPUStrategy(resolver)"
   ]
  },
  {
   "cell_type": "code",
   "execution_count": null,
   "metadata": {},
   "outputs": [],
   "source": [
    "# Represent each input by an array of its binary digits.\n",
    "def binary_encode(i, num_digits):\n",
    "    return np.array([i >> d & 1 for d in range(num_digits)])"
   ]
  },
  {
   "cell_type": "code",
   "execution_count": null,
   "metadata": {},
   "outputs": [],
   "source": [
    "# One-hot encode the desired outputs: [number, \"fizz\", \"buzz\", \"fizzbuzz\"]\n",
    "def fizz_buzz_encode(i):\n",
    "    if i % 15 == 0: return np.array([0, 0, 0, 1])\n",
    "    elif i % 5 == 0: return np.array([0, 0, 1, 0])\n",
    "    elif i % 3 == 0: return np.array([0, 1, 0, 0])\n",
    "    else: return np.array([1, 0, 0, 0])"
   ]
  },
  {
   "cell_type": "code",
   "execution_count": null,
   "metadata": {},
   "outputs": [],
   "source": [
    "NUM_DIGITS = 10\n",
    "\n",
    "x_train = np.array([binary_encode(i, NUM_DIGITS) for i in range(101, 2 ** NUM_DIGITS)])\n",
    "y_train = np.array([fizz_buzz_encode(i) for i in range(101, 2 ** NUM_DIGITS)])\n",
    "\n",
    "x_test = np.array([binary_encode(i, NUM_DIGITS) for i in range(1, 101)])\n",
    "y_test = np.array([fizz_buzz_encode(i) for i in range(1, 101)])"
   ]
  },
  {
   "cell_type": "code",
   "execution_count": null,
   "metadata": {},
   "outputs": [],
   "source": [
    "# def get_dataset(batch_size=200):\n",
    "#   datasets, info = tfds.load(name='mnist', with_info=True, as_supervised=True,\n",
    "#                              try_gcs=True)\n",
    "#   mnist_train, mnist_test = datasets['train'], datasets['test']\n",
    "\n",
    "#   def scale(image, label):\n",
    "#     image = tf.cast(image, tf.float32)\n",
    "#     image /= 255.0\n",
    "\n",
    "#     return image, label\n",
    "\n",
    "#   train_dataset = mnist_train.map(scale).shuffle(10000).batch(batch_size)\n",
    "#   test_dataset = mnist_test.map(scale).batch(batch_size)\n",
    "\n",
    "#   return train_dataset, test_dataset"
   ]
  },
  {
   "cell_type": "code",
   "execution_count": null,
   "metadata": {},
   "outputs": [],
   "source": [
    "def create_model():\n",
    "  return tf.keras.Sequential(\n",
    "      [tf.keras.layers.Dense(1000, input_shape=(10,), activation='relu'),\n",
    "       tf.keras.layers.Dense(4, activation='softmax')])"
   ]
  },
  {
   "cell_type": "code",
   "execution_count": null,
   "metadata": {},
   "outputs": [],
   "source": [
    "with strategy.scope():\n",
    "  model = create_model()\n",
    "  model.compile(optimizer='adam',\n",
    "                loss=tf.keras.losses.SparseCategoricalCrossentropy(from_logits=True),\n",
    "                metrics=['sparse_categorical_accuracy'])\n",
    "\n",
    "# train_dataset, test_dataset = get_dataset()\n",
    "\n",
    "# model.fit(train_dataset,\n",
    "#           epochs=5,\n",
    "#           validation_data=test_dataset)"
   ]
  },
  {
   "cell_type": "code",
   "execution_count": null,
   "metadata": {},
   "outputs": [],
   "source": [
    "start = time.time()\n",
    "#model.fit(x_train, y_train, batch_size=64, nb_epoch=120, verbose=0)\n",
    "model.fit(x_train, batch_size=64, epochs=120, validation_data=y_train)\n",
    "end = time.time()\n",
    "print(\"Traing Time: {0}s\".format(end-start))"
   ]
  },
  {
   "cell_type": "code",
   "execution_count": null,
   "metadata": {},
   "outputs": [],
   "source": [
    "start = time.time()\n",
    "result = model.evaluate(x_test, y_test, verbose=0)\n",
    "end = time.time()\n",
    "print(\"Acc: {0:.2f} \".format(result[1]))\n",
    "print(\"Evaluation Time: {0}s\".format(end-start))"
   ]
  },
  {
   "cell_type": "code",
   "execution_count": null,
   "metadata": {},
   "outputs": [],
   "source": []
  }
 ],
 "metadata": {
  "language_info": {
   "codemirror_mode": {
    "name": "ipython",
    "version": 3
   },
   "file_extension": ".py",
   "mimetype": "text/x-python",
   "name": "python",
   "nbconvert_exporter": "python",
   "pygments_lexer": "ipython3",
   "version": "3.7.7-final"
  },
  "orig_nbformat": 2,
  "kernelspec": {
   "name": "python37764bitbd63fa3c3fd845ce87897834363daba3",
   "display_name": "Python 3.7.7 64-bit"
  }
 },
 "nbformat": 4,
 "nbformat_minor": 2
}