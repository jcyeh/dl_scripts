{
 "cells": [
  {
   "cell_type": "markdown",
   "metadata": {},
   "source": [
    "<a href=\"https://colab.research.google.com/github/jcyeh/dl_scripts/blob/master/fizzbuzz.ipynb\" target=\"_parent\"><img src=\"https://colab.research.google.com/assets/colab-badge.svg\" alt=\"Open In Colab\"/></a>"
   ]
  },
  {
   "cell_type": "markdown",
   "metadata": {},
   "source": [
    "# FizzBuzz in TensorFlow (v2.0.0)\n",
    "\n",
    "This Jupyter notebook demonstrates the FizzBuzz code in Python (v3.7.7)"
   ]
  },
  {
   "cell_type": "code",
   "execution_count": 1,
   "metadata": {},
   "outputs": [],
   "source": [
    "import numpy as np\n",
    "import tensorflow as tf\n",
    "import time\n",
    "import os\n",
    "\n",
    "DEVICE = \"GPU\""
   ]
  },
  {
   "cell_type": "code",
   "execution_count": 2,
   "metadata": {},
   "outputs": [
    {
     "output_type": "stream",
     "name": "stdout",
     "text": "Executing op MatMul in device /job:localhost/replica:0/task:0/device:CPU:0\ntf.Tensor(\n[[22. 28.]\n [49. 64.]], shape=(2, 2), dtype=float32)\n"
    }
   ],
   "source": [
    "if DEVICE == \"GPU\":\n",
    "    os.environ[\"CUDA_VISIBLE_DEVICES\"]=\"0,1\"\n",
    "    tf.config.set_soft_device_placement(True)\n",
    "    tf.debugging.set_log_device_placement(enabled=True)\n",
    "\n",
    "    gpus = tf.config.experimental.list_physical_devices('GPU')\n",
    "    if gpus:\n",
    "        # Restrict TensorFlow to only use the first GPU\n",
    "        try:\n",
    "            tf.config.experimental.set_visible_devices(gpus[0], 'GPU')\n",
    "            logical_gpus = tf.config.experimental.list_logical_devices('GPU')\n",
    "            print(len(gpus), \"Physical GPUs,\", len(logical_gpus), \"Logical GPU\")\n",
    "        except RuntimeError as e:\n",
    "        # Visible devices must be set before GPUs have been initialized\n",
    "            print(e)\n",
    "elif DEVICE == \"TPU\":\n",
    "    resolver = tf.distribute.cluster_resolver.TPUClusterResolver(tpu='grpc://' + os.environ['COLAB_TPU_ADDR'])\n",
    "    tf.config.experimental_connect_to_cluster(resolver)\n",
    "    # This is the TPU initialization code that has to be at the beginning.\n",
    "    tf.tpu.experimental.initialize_tpu_system(resolver)\n",
    "    strategy = tf.distribute.experimental.TPUStrategy(resolver)\n",
    "\n",
    "# Create some tensors\n",
    "a = tf.constant([[1.0, 2.0, 3.0], [4.0, 5.0, 6.0]])\n",
    "b = tf.constant([[1.0, 2.0], [3.0, 4.0], [5.0, 6.0]])\n",
    "c = tf.matmul(a, b)\n",
    "print(c)"
   ]
  },
  {
   "cell_type": "code",
   "execution_count": 3,
   "metadata": {},
   "outputs": [],
   "source": [
    "# Represent each input by an array of its binary digits.\n",
    "def binary_encode(i, num_digits):\n",
    "    return np.array([i >> d & 1 for d in range(num_digits)])"
   ]
  },
  {
   "cell_type": "code",
   "execution_count": 4,
   "metadata": {},
   "outputs": [],
   "source": [
    "# One-hot encode the desired outputs: [number, \"fizz\", \"buzz\", \"fizzbuzz\"]\n",
    "def fizz_buzz_encode(i):\n",
    "    if i % 15 == 0: return np.array([0, 0, 0, 1])\n",
    "    elif i % 5 == 0: return np.array([0, 0, 1, 0])\n",
    "    elif i % 3 == 0: return np.array([0, 1, 0, 0])\n",
    "    else: return np.array([1, 0, 0, 0])"
   ]
  },
  {
   "cell_type": "code",
   "execution_count": 5,
   "metadata": {},
   "outputs": [],
   "source": [
    "NUM_DIGITS = 10\n",
    "\n",
    "x_train = np.array([binary_encode(i, NUM_DIGITS) for i in range(101, 2 ** NUM_DIGITS)])\n",
    "y_train = np.array([fizz_buzz_encode(i) for i in range(101, 2 ** NUM_DIGITS)])\n",
    "\n",
    "x_test = np.array([binary_encode(i, NUM_DIGITS) for i in range(1, 101)])\n",
    "y_test = np.array([fizz_buzz_encode(i) for i in range(1, 101)])"
   ]
  },
  {
   "cell_type": "code",
   "execution_count": 6,
   "metadata": {},
   "outputs": [
    {
     "output_type": "stream",
     "name": "stdout",
     "text": "Executing op RandomUniform in device /job:localhost/replica:0/task:0/device:CPU:0\nExecuting op Sub in device /job:localhost/replica:0/task:0/device:CPU:0\nExecuting op Mul in device /job:localhost/replica:0/task:0/device:CPU:0\nExecuting op Add in device /job:localhost/replica:0/task:0/device:CPU:0\nExecuting op VarHandleOp in device /job:localhost/replica:0/task:0/device:CPU:0\nExecuting op VarIsInitializedOp in device /job:localhost/replica:0/task:0/device:CPU:0\nExecuting op LogicalNot in device /job:localhost/replica:0/task:0/device:CPU:0\nExecuting op Assert in device /job:localhost/replica:0/task:0/device:CPU:0\nExecuting op AssignVariableOp in device /job:localhost/replica:0/task:0/device:CPU:0\nExecuting op Fill in device /job:localhost/replica:0/task:0/device:CPU:0\nExecuting op VarHandleOp in device /job:localhost/replica:0/task:0/device:CPU:0\nExecuting op VarHandleOp in device /job:localhost/replica:0/task:0/device:CPU:0\nExecuting op VarHandleOp in device /job:localhost/replica:0/task:0/device:CPU:0\nExecuting op VarHandleOp in device /job:localhost/replica:0/task:0/device:CPU:0\n"
    }
   ],
   "source": [
    "if DEVICE == \"GPU\":\n",
    "    model = tf.keras.Sequential()\n",
    "    model.add(tf.keras.layers.Dense(1000, input_shape=(10,)))\n",
    "    model.add(tf.keras.layers.Activation(tf.nn.relu))\n",
    "    model.add(tf.keras.layers.Dense(4))\n",
    "    model.add(tf.keras.layers.Activation(tf.nn.softmax))\n",
    "    model.compile(loss='categorical_crossentropy', optimizer='Adam', metrics=['accuracy'])\n",
    "elif DEVICE == \"TPU\":\n",
    "    with strategy.scope():\n",
    "        model = tf.keras.Sequential()\n",
    "        model.add(tf.keras.layers.Dense(1000, input_shape=(10,)))\n",
    "        model.add(tf.keras.layers.Activation(tf.nn.relu))\n",
    "        model.add(tf.keras.layers.Dense(4))\n",
    "        model.add(tf.keras.layers.Activation(tf.nn.softmax))\n",
    "        model.compile(loss='categorical_crossentropy', optimizer='Adam', metrics=['accuracy'])"
   ]
  },
  {
   "cell_type": "code",
   "execution_count": 7,
   "metadata": {},
   "outputs": [
    {
     "output_type": "stream",
     "name": "stdout",
     "text": "WARNING:tensorflow:The `nb_epoch` argument in `fit` has been renamed `epochs`.\nExecuting op RangeDataset in device /job:localhost/replica:0/task:0/device:CPU:0\nExecuting op RepeatDataset in device /job:localhost/replica:0/task:0/device:CPU:0\nExecuting op MapDataset in device /job:localhost/replica:0/task:0/device:CPU:0\nExecuting op PrefetchDataset in device /job:localhost/replica:0/task:0/device:CPU:0\nExecuting op FlatMapDataset in device /job:localhost/replica:0/task:0/device:CPU:0\nExecuting op TensorDataset in device /job:localhost/replica:0/task:0/device:CPU:0\nExecuting op RepeatDataset in device /job:localhost/replica:0/task:0/device:CPU:0\nExecuting op ZipDataset in device /job:localhost/replica:0/task:0/device:CPU:0\nExecuting op ParallelMapDataset in device /job:localhost/replica:0/task:0/device:CPU:0\nExecuting op DatasetCardinality in device /job:localhost/replica:0/task:0/device:CPU:0\nExecuting op ModelDataset in device /job:localhost/replica:0/task:0/device:CPU:0\nExecuting op AnonymousIteratorV2 in device /job:localhost/replica:0/task:0/device:CPU:0\nExecuting op MakeIterator in device /job:localhost/replica:0/task:0/device:CPU:0\nExecuting op VarHandleOp in device /job:localhost/replica:0/task:0/device:CPU:0\nExecuting op AssignVariableOp in device /job:localhost/replica:0/task:0/device:CPU:0\nExecuting op VarHandleOp in device /job:localhost/replica:0/task:0/device:CPU:0\nExecuting op VarHandleOp in device /job:localhost/replica:0/task:0/device:CPU:0\nExecuting op VarHandleOp in device /job:localhost/replica:0/task:0/device:CPU:0\nExecuting op VarHandleOp in device /job:localhost/replica:0/task:0/device:CPU:0\nExecuting op VarHandleOp in device /job:localhost/replica:0/task:0/device:CPU:0\nExecuting op LogicalNot in device /job:localhost/replica:0/task:0/device:CPU:0\nExecuting op Assert in device /job:localhost/replica:0/task:0/device:CPU:0\nExecuting op VarHandleOp in device /job:localhost/replica:0/task:0/device:CPU:0\nExecuting op VarHandleOp in device /job:localhost/replica:0/task:0/device:CPU:0\nExecuting op VarHandleOp in device /job:localhost/replica:0/task:0/device:CPU:0\nExecuting op VarHandleOp in device /job:localhost/replica:0/task:0/device:CPU:0\nExecuting op VarHandleOp in device /job:localhost/replica:0/task:0/device:CPU:0\nExecuting op VarHandleOp in device /job:localhost/replica:0/task:0/device:CPU:0\nExecuting op VarHandleOp in device /job:localhost/replica:0/task:0/device:CPU:0\nExecuting op __inference_initialize_variables_502 in device /job:localhost/replica:0/task:0/device:CPU:0\nExecuting op __inference_distributed_function_699 in device /job:localhost/replica:0/task:0/device:CPU:0\nExecuting op DeleteIterator in device /job:localhost/replica:0/task:0/device:CPU:0\nTraing Time: 3.614473819732666s\n"
    }
   ],
   "source": [
    "start = time.time()\n",
    "model.fit(x_train, y_train, batch_size=64, nb_epoch=120, verbose=0)\n",
    "end = time.time()\n",
    "print(\"Traing Time: {0}s\".format(end-start))"
   ]
  },
  {
   "cell_type": "code",
   "execution_count": 8,
   "metadata": {},
   "outputs": [
    {
     "output_type": "stream",
     "name": "stdout",
     "text": "Executing op MapDataset in device /job:localhost/replica:0/task:0/device:CPU:0\nExecuting op PrefetchDataset in device /job:localhost/replica:0/task:0/device:CPU:0\nExecuting op FlatMapDataset in device /job:localhost/replica:0/task:0/device:CPU:0\nExecuting op TensorDataset in device /job:localhost/replica:0/task:0/device:CPU:0\nExecuting op RepeatDataset in device /job:localhost/replica:0/task:0/device:CPU:0\nExecuting op ZipDataset in device /job:localhost/replica:0/task:0/device:CPU:0\nExecuting op ParallelMapDataset in device /job:localhost/replica:0/task:0/device:CPU:0\nExecuting op __inference_distributed_function_6501 in device /job:localhost/replica:0/task:0/device:CPU:0\nAcc: 1.00\nEvaluation Time: 0.20752286911010742s\n"
    }
   ],
   "source": [
    "start = time.time()\n",
    "result = model.evaluate(x_test, y_test, verbose=0)\n",
    "end = time.time()\n",
    "print(\"Acc: {0:.2f} \".format(result[1]))\n",
    "print(\"Evaluation Time: {0}s\".format(end-start))"
   ]
  },
  {
   "cell_type": "code",
   "execution_count": null,
   "metadata": {},
   "outputs": [],
   "source": []
  }
 ],
 "metadata": {
  "language_info": {
   "codemirror_mode": {
    "name": "ipython",
    "version": 3
   },
   "file_extension": ".py",
   "mimetype": "text/x-python",
   "name": "python",
   "nbconvert_exporter": "python",
   "pygments_lexer": "ipython3",
   "version": "3.7.7-final"
  },
  "orig_nbformat": 2,
  "kernelspec": {
   "name": "python37764bitbd63fa3c3fd845ce87897834363daba3",
   "display_name": "Python 3.7.7 64-bit"
  }
 },
 "nbformat": 4,
 "nbformat_minor": 2
}